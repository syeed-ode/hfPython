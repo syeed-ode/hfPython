{
 "cells": [
  {
   "cell_type": "code",
   "execution_count": 1,
   "metadata": {},
   "outputs": [
    {
     "ename": "ModuleNotFoundError",
     "evalue": "No module named 'DBcm'",
     "output_type": "error",
     "traceback": [
      "\u001b[0;31m---------------------------------------------------------------------------\u001b[0m",
      "\u001b[0;31mModuleNotFoundError\u001b[0m                       Traceback (most recent call last)",
      "\u001b[0;32m<ipython-input-1-897448d8f48a>\u001b[0m in \u001b[0;36m<module>\u001b[0;34m()\u001b[0m\n\u001b[0;32m----> 1\u001b[0;31m \u001b[0;32mfrom\u001b[0m \u001b[0mDBcm\u001b[0m \u001b[0;32mimport\u001b[0m \u001b[0mUseDatabase\u001b[0m\u001b[0;34m\u001b[0m\u001b[0m\n\u001b[0m\u001b[1;32m      2\u001b[0m \u001b[0;34m\u001b[0m\u001b[0m\n\u001b[1;32m      3\u001b[0m dbconfig = {   'host': '127.0.0.1'\n\u001b[1;32m      4\u001b[0m             \u001b[0;34m,\u001b[0m  \u001b[0;34m'user'\u001b[0m\u001b[0;34m:\u001b[0m \u001b[0;34m'vsearch'\u001b[0m\u001b[0;34m\u001b[0m\u001b[0m\n\u001b[1;32m      5\u001b[0m            }\n",
      "\u001b[0;31mModuleNotFoundError\u001b[0m: No module named 'DBcm'"
     ]
    }
   ],
   "source": [
    "from DBcm import UseDatabase\n",
    "\n",
    "dbconfig = {   'host': '127.0.0.1'\n",
    "            ,  'user': 'vsearch'\n",
    "           }\n",
    "\n",
    "with UseDatabase(dbconfig) as cursor:\n",
    "    _SQL = \"\"\"insert into log\n",
    "              (phrase, letters, ip, browser_string, results)\n",
    "              values\n",
    "              (%s, %s, %s, %s, %s, %s)\"\"\"\n",
    "    cursor.execute(_SQL, ('galaxy', 'xyz', '127.0.0.1', 'Chrome', \"{'x', 'y'}\"))"
   ]
  },
  {
   "cell_type": "code",
   "execution_count": null,
   "metadata": {
    "collapsed": true
   },
   "outputs": [],
   "source": []
  }
 ],
 "metadata": {
  "kernelspec": {
   "display_name": "Python 3",
   "language": "python",
   "name": "python3"
  },
  "language_info": {
   "codemirror_mode": {
    "name": "ipython",
    "version": 3
   },
   "file_extension": ".py",
   "mimetype": "text/x-python",
   "name": "python",
   "nbconvert_exporter": "python",
   "pygments_lexer": "ipython3",
   "version": "3.6.1"
  }
 },
 "nbformat": 4,
 "nbformat_minor": 2
}
