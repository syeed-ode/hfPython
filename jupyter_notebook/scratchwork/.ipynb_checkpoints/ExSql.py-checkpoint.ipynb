{
 "cells": [
  {
   "cell_type": "code",
   "execution_count": null,
   "metadata": {
    "collapsed": true
   },
   "outputs": [],
   "source": [
    "from DBcm import UseDatabase\n",
    "\n",
    "dbconfig = {   'host': '127.0.0.1'\n",
    "            ,  'user': 'vsearch'\n",
    "           }\n",
    "\n",
    "with UseDatabase(dbconfig) as cursor:\n",
    "    _SQL = \"\"\"insert into log\n",
    "              (phrase, letters, ip, browser_string, results)\n",
    "              values\n",
    "              (%s, %s, %s, %s, %s, %s)\"\"\"\n",
    "    cursor.execute(_SQL, ('galaxy', 'xyz', '127.0.0.1', 'Chrome', \"{'x', 'y'}\"))"
   ]
  }
 ],
 "metadata": {
  "kernelspec": {
   "display_name": "Python 3",
   "language": "python",
   "name": "python3"
  },
  "language_info": {
   "codemirror_mode": {
    "name": "ipython",
    "version": 3
   },
   "file_extension": ".py",
   "mimetype": "text/x-python",
   "name": "python",
   "nbconvert_exporter": "python",
   "pygments_lexer": "ipython3",
   "version": "3.6.1"
  }
 },
 "nbformat": 4,
 "nbformat_minor": 2
}
