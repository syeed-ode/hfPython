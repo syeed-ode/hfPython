{
 "cells": [
  {
   "cell_type": "code",
   "execution_count": 2,
   "metadata": {},
   "outputs": [
    {
     "ename": "SyntaxError",
     "evalue": "invalid syntax (<ipython-input-2-74b6265e7210>, line 8)",
     "output_type": "error",
     "traceback": [
      "\u001b[0;36m  File \u001b[0;32m\"<ipython-input-2-74b6265e7210>\"\u001b[0;36m, line \u001b[0;32m8\u001b[0m\n\u001b[0;31m    def __enter__(self): -> 'cursor':\u001b[0m\n\u001b[0m                          ^\u001b[0m\n\u001b[0;31mSyntaxError\u001b[0m\u001b[0;31m:\u001b[0m invalid syntax\n"
     ]
    }
   ],
   "source": [
    "import mysql.connector\n",
    "\n",
    "class UseDatabase:\n",
    "    \n",
    "    def __init__(self, dbconfiguration: dict) -> None:\n",
    "        self.configuration = dbconfiguration\n",
    "    \n",
    "    def __enter__(self) -> 'cursor':\n",
    "        self.connect = connector.connect(**self.configuration)\n",
    "        self.cursor = conn.cursor()\n",
    "        return self.cursor\n",
    "    \n",
    "    def __exit__(self, exc_type, exc_value, exc_trace) -> None:\n",
    "        self.cursor.commit()\n",
    "        self.cursor.close()\n",
    "        self.connect.close()"
   ]
  },
  {
   "cell_type": "code",
   "execution_count": null,
   "metadata": {
    "collapsed": true
   },
   "outputs": [],
   "source": []
  },
  {
   "cell_type": "code",
   "execution_count": null,
   "metadata": {
    "collapsed": true
   },
   "outputs": [],
   "source": []
  }
 ],
 "metadata": {
  "kernelspec": {
   "display_name": "Python 3",
   "language": "python",
   "name": "python3"
  },
  "language_info": {
   "codemirror_mode": {
    "name": "ipython",
    "version": 3
   },
   "file_extension": ".py",
   "mimetype": "text/x-python",
   "name": "python",
   "nbconvert_exporter": "python",
   "pygments_lexer": "ipython3",
   "version": "3.6.1"
  }
 },
 "nbformat": 4,
 "nbformat_minor": 2
}
